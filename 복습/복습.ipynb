{
 "cells": [
  {
   "cell_type": "code",
   "execution_count": 2,
   "id": "c7cc35e9",
   "metadata": {},
   "outputs": [
    {
     "name": "stdout",
     "output_type": "stream",
     "text": [
      "[2, 3, 4]\n",
      "['apple', 'banana', 'cherry']\n",
      "[1, 'hello', True]\n"
     ]
    }
   ],
   "source": [
    "#1.1 리스트 생성\n",
    "\n",
    "x = [2, 3, 4]\n",
    "y = ['apple', 'banana', 'cherry']\n",
    "z = [1, 'hello', True]\n",
    "print(x)\n",
    "print(y)        \n",
    "print(z)"
   ]
  },
  {
   "cell_type": "code",
   "execution_count": 3,
   "id": "c94f8222",
   "metadata": {},
   "outputs": [
    {
     "name": "stdout",
     "output_type": "stream",
     "text": [
      "apple\n",
      "banana\n",
      "cherry\n"
     ]
    }
   ],
   "source": [
    "#1.2 리스트의 항목에 접근하기\n",
    "\n",
    "fruits = ['apple', 'banana', 'cherry']\n",
    "print(fruits[0])\n",
    "print(fruits[1])\n",
    "print(fruits[2])"
   ]
  },
  {
   "cell_type": "code",
   "execution_count": null,
   "id": "11df30af",
   "metadata": {},
   "outputs": [
    {
     "name": "stdout",
     "output_type": "stream",
     "text": [
      "['banana', 'cherry']\n"
     ]
    }
   ],
   "source": [
    "fruits = ['apple', 'banana', 'cherry', 'orange']\n",
    "print(fruits[1:3])"
   ]
  },
  {
   "cell_type": "code",
   "execution_count": 6,
   "id": "6f341cc3",
   "metadata": {},
   "outputs": [
    {
     "name": "stdout",
     "output_type": "stream",
     "text": [
      "['apple', 'kiwi', 'cherry']\n",
      "['apple', 'banana', 'cherry', 'orange']\n",
      "['apple', 'cherry']\n"
     ]
    }
   ],
   "source": [
    "#1.3 리스트 수정하기\n",
    "\n",
    "fruits = ['apple', 'banana', 'cherry']\n",
    "fruits[1] = 'kiwi'\n",
    "print(fruits)\n",
    "\n",
    "fruits = ['apple', 'banana','cherry']\n",
    "fruits.append('orange')\n",
    "print(fruits)\n",
    "\n",
    "fruits = ['apple', 'banana', 'cherry']\n",
    "fruits.remove('banana')\n",
    "print(fruits)"
   ]
  },
  {
   "cell_type": "code",
   "execution_count": 8,
   "id": "eeed59f3",
   "metadata": {},
   "outputs": [
    {
     "name": "stdout",
     "output_type": "stream",
     "text": [
      "3\n"
     ]
    }
   ],
   "source": [
    "#1.4 리스트의 길이 알아내기\n",
    "\n",
    "fruits = ['apple', 'banana', 'cherry']\n",
    "print(len(fruits))\n"
   ]
  },
  {
   "cell_type": "code",
   "execution_count": 9,
   "id": "7193f059",
   "metadata": {},
   "outputs": [
    {
     "name": "stdout",
     "output_type": "stream",
     "text": [
      "['apple', 'banana', 'cherry']\n"
     ]
    }
   ],
   "source": [
    "#1.5 리스트 정렬하기\n",
    "\n",
    "fruits = ['apple', 'banana', 'cherry']\n",
    "fruits.sort()\n",
    "print(fruits)"
   ]
  },
  {
   "cell_type": "markdown",
   "id": "be19b5f1",
   "metadata": {},
   "source": [
    "#튜플(Tuple)이란?"
   ]
  },
  {
   "cell_type": "code",
   "execution_count": 20,
   "id": "564e6a7e",
   "metadata": {},
   "outputs": [
    {
     "name": "stdout",
     "output_type": "stream",
     "text": [
      "(1, 'hello', 3.14)\n",
      "(1, 2, 3) ('apple', 'banana', 'cherry')\n",
      "apple apple\n",
      "banana banana\n",
      "cherry cherry\n",
      "1, 2, 3 (1, 2, 3)\n",
      "4, 5, 6 (4, 5, 6, 7)\n",
      "2, 4, 6, 8 (1, 3, 5, 7, 9)\n",
      "1: 2\n",
      "5: 4\n"
     ]
    }
   ],
   "source": [
    "#1. 튜플(Tuple)이란?\n",
    "\n",
    "my_tuple = (1,'hello', 3.14)\n",
    "print(my_tuple)\n",
    "\n",
    "#1.1 튜플 생성\n",
    "\n",
    "x = (1, 2, 3)\n",
    "y = ('apple','banana', 'cherry')\n",
    "print(x, y)\n",
    "\n",
    "#1.2 튜플 인덱싱\n",
    "fruits = ('apple', 'banana', 'cherry')\n",
    "print(\"apple\", fruits[0])\n",
    "print(\"banana\", fruits[1])\n",
    "print(\"cherry\", fruits[-1])\n",
    "\n",
    "#1.3 튜플 슬라이싱\n",
    "numbers = (1, 2, 3, 4, 5, 6, 7, 8, 9)\n",
    "print(\"1, 2, 3\", numbers[:3])\n",
    "print(\"4, 5, 6\", numbers[3:7])\n",
    "print(\"2, 4, 6, 8\", numbers[::2])\n",
    "\n",
    "  \n",
    "#1.5 튜플 메서드\n",
    "numbers = (3, 1, 4, 1, 5, 9, 2, 6, 5, 3)\n",
    "\n",
    "print(\"1:\", numbers.count(1))\n",
    "print(\"5:\", numbers.index(5))"
   ]
  },
  {
   "cell_type": "code",
   "execution_count": null,
   "id": "7351c58a",
   "metadata": {},
   "outputs": [
    {
     "name": "stdout",
     "output_type": "stream",
     "text": [
      "{'name': 'licat', 'age': 30, 'city': 'Seoul'}\n",
      "{'name': 'licat', 'age': 25, 'height': '165.5'}\n",
      "이름: licat\n",
      "나이: 25\n",
      "{'name': 'Alice', 'age': 26, 'city': 'Seoul'}\n",
      "{'name': 'Alice', 'age': 25}\n",
      "키: dict_keys(['name', 'age', 'city'])\n",
      "값: dict_values(['Alice', 25, 'Seoul'])\n",
      "항목: dict_items([('name', 'Alice'), ('age', 25), ('city', 'Seoul')])\n",
      "{1, 2, 3, 4, 5}\n",
      "3 {'banana', 'cherry', 'apple'}\n",
      "1, 2, 3 {1, 2, 3, 4, 5}\n",
      "합집합: {1, 2, 3, 4, 5, 6, 7, 8}\n",
      "교집합: {4, 5}\n",
      "차집합: {1, 2, 3}\n",
      "추가: {'orange', 'banana', 'cherry', 'apple'}\n",
      "제거: {'orange', 'cherry', 'apple'}\n",
      "대칭 차집합: {1, 2, 3, 6, 7, 8}\n",
      "set1이 set2의 부분집합인가? False\n",
      "두 집합에 겹치는 요소가 있는가?: False\n",
      "성인입니다.\n",
      "프로그램 종료되었습니다.\n",
      "미성년자입니다.\n",
      "B등급\n",
      "입장 가능합니다.\n",
      "놀이기구 탑승 가능\n"
     ]
    }
   ],
   "source": [
    "#1. 딕셔너리(Dictionary)란?\n",
    "my_dict = {'name': 'licat', 'age': 30, 'city': 'Seoul'}\n",
    "print(my_dict)\n",
    "\n",
    "#1.1 딕셔너리 생성 방법\n",
    "person = {'name': 'licat', 'age': 25, 'height': '165.5'}\n",
    "print(person)\n",
    "\n",
    "#1.2 딕셔너리 접근\n",
    "person = {'name': 'licat', 'age': 25, 'height': '165.5'}\n",
    "print(\"이름:\", person['name'])\n",
    "print(\"나이:\", person['age'])\n",
    "\n",
    "#1.3 딕셔너리 수정\n",
    "person = {'name': 'Alice', 'age': 25}\n",
    "person['age'] = 26\n",
    "person['city'] = 'Seoul'\n",
    "print(person)\n",
    "\n",
    "\n",
    "#1.4 딕셔너리 삭제\n",
    "person = {'name': 'Alice', 'age': 25, 'city': 'Seoul'}\n",
    "del person['city']\n",
    "print(person)\n",
    "\n",
    "\n",
    "#1.5 딕셔너리 메서드\n",
    "person = {'name': 'Alice', 'age': 25, 'city': 'Seoul'}\n",
    "print(\"키:\", person.keys())\n",
    "print(\"값:\", person.values())\n",
    "print(\"항목:\", person.items())\n",
    "\n",
    "\n",
    "#1. 셋(Set)이란?\n",
    "my_set = {1, 2, 3, 3, 4, 4, 5}\n",
    "print(my_set)\n",
    "\n",
    "#1.1 셋 생성\n",
    "fruits = {'apple', 'banana', 'cherry'}\n",
    "numbers = set([1, 2, 2, 3, 4, 4, 5])\n",
    "\n",
    "print(\"3\", fruits)\n",
    "print(\"1, 2, 3\", numbers)\n",
    "\n",
    "\n",
    "\n",
    "#1.3 셋 연산\n",
    "set1 = {1, 2, 3, 4, 5}\n",
    "set2 = {4, 5, 6, 7, 8}\n",
    "\n",
    "print(\"합집합:\", set1 | set2)\n",
    "print(\"교집합:\", set1 & set2)\n",
    "print(\"차집합:\", set1 - set2)\n",
    "\n",
    "\n",
    "#1.4 셋 수정\n",
    "fruits = {'apple', 'banana', 'cherry'}\n",
    "\n",
    "fruits.add('orange')\n",
    "print(\"추가:\", fruits)\n",
    "fruits.remove('banana')\n",
    "print(\"제거:\", fruits)\n",
    "\n",
    "\n",
    "#1.5 셋 메서드\n",
    "set1 = {1, 2, 3, 4, 5}\n",
    "set2 = {4, 5, 6, 7, 8}\n",
    "\n",
    "print(\"대칭 차집합:\", set1.symmetric_difference(set2))\n",
    "print(\"set1이 set2의 부분집합인가?\", set1.issubset(set2))\n",
    "print(\"두 집합에 겹치는 요소가 있는가?:\", set1.isdisjoint(set2))\n",
    "\n",
    "\n",
    "\n",
    "#2.1 기본 if 문\n",
    "age = 20\n",
    "\n",
    "if age >= 18:\n",
    "    print(\"성인입니다.\")\n",
    "\n",
    "print(\"프로그램 종료되었습니다.\")\n",
    "\n",
    "\n",
    "#2.2 if-else 문\n",
    "age = 15\n",
    "\n",
    "if age >= 18:\n",
    "    print(\"성인입니다.\")    \n",
    "else:\n",
    "    print(\"미성년자입니다.\")\n",
    "\n",
    "\n",
    "#2.3 if-elif-else 문\n",
    "score = 85  \n",
    "\n",
    "if score >= 90:\n",
    "    print(\"A등급\")\n",
    "elif score >= 80:\n",
    "    print(\"B등급\")\n",
    "elif score >= 70:\n",
    "    print(\"C등급\")\n",
    "else :\n",
    "    print(\"D등급\")   \n",
    "\n",
    "\n",
    "#2.4 중첩된 if 문\n",
    "age = 20\n",
    "has_id = True\n",
    "\n",
    "if age >= 18:\n",
    "    if has_id:\n",
    "        print(\"입장 가능합니다.\")\n",
    "    else:\n",
    "        print(\"미성년자는 입장할 수 없습니다.\")\n",
    "\n",
    "#2.5 and, or 연산자\n",
    "age = 20\n",
    "height = 170\n",
    "if age >= 18 and height >= 160:\n",
    "    print(\"놀이기구 탑승 가능\")\n",
    "else:\n",
    "    print(\"놀이기구 탑승 불가\")\n",
    "\n",
    "\n"
   ]
  }
 ],
 "metadata": {
  "kernelspec": {
   "display_name": "Python 3",
   "language": "python",
   "name": "python3"
  },
  "language_info": {
   "codemirror_mode": {
    "name": "ipython",
    "version": 3
   },
   "file_extension": ".py",
   "mimetype": "text/x-python",
   "name": "python",
   "nbconvert_exporter": "python",
   "pygments_lexer": "ipython3",
   "version": "3.13.5"
  }
 },
 "nbformat": 4,
 "nbformat_minor": 5
}
