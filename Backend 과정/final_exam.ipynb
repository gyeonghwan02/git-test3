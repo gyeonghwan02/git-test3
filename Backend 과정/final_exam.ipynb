{
 "cells": [
  {
   "cell_type": "markdown",
   "id": "8f3dbd9c",
   "metadata": {},
   "source": [
    "## 1부터 100까지 더하는 코드를 작성하세요. for를 사용해서 풀어주세요."
   ]
  },
  {
   "cell_type": "code",
   "execution_count": 1,
   "id": "39ac553b",
   "metadata": {},
   "outputs": [
    {
     "name": "stdout",
     "output_type": "stream",
     "text": [
      "1부터 100까지의 합: 5050\n",
      "\n",
      "=== 사용자 목록 ===\n",
      "이름: 김철수, 나이: 25세\n",
      "이름: 이영희, 나이: 30세\n",
      "이름: 박민수, 나이: 35세\n",
      "이름: 최지은, 나이: 20세\n",
      "이름: 정우진, 나이: 45세\n",
      "이름: 한미영, 나이: 28세\n",
      "이름: 임도현, 나이: 33세\n",
      "이름: 송하늘, 나이: 22세\n",
      "이름: 오세진, 나이: 40세\n",
      "이름: 윤서연, 나이: 27세\n",
      "\n",
      "나이의 평균: 30.5세\n"
     ]
    }
   ],
   "source": [
    "# 1부터 100까지 더하기\n",
    "total = 0\n",
    "\n",
    "for i in range(1, 101):\n",
    "    total += i\n",
    "\n",
    "print(f\"1부터 100까지의 합: {total}\")\n",
    "\n",
    "# User 클래스 정의\n",
    "class User:\n",
    "    def __init__(self, name, age):\n",
    "        self.name = name\n",
    "        self.age = age\n",
    "    \n",
    "    def __str__(self):\n",
    "        return f\"이름: {self.name}, 나이: {self.age}세\"\n",
    "\n",
    "# User 인스턴스들을 리스트로 관리\n",
    "users = [\n",
    "    User(\"김철수\", 25),\n",
    "    User(\"이영희\", 30),\n",
    "    User(\"박민수\", 35),\n",
    "    User(\"최지은\", 20),\n",
    "    User(\"정우진\", 45),\n",
    "    User(\"한미영\", 28),\n",
    "    User(\"임도현\", 33),\n",
    "    User(\"송하늘\", 22),\n",
    "    User(\"오세진\", 40),\n",
    "    User(\"윤서연\", 27),\n",
    "]\n",
    "\n",
    "# 사용자 정보 출력\n",
    "print(\"\\n=== 사용자 목록 ===\")\n",
    "for user in users:\n",
    "    print(user)\n",
    "\n",
    "# 나이의 평균 구하기\n",
    "age_sum = 0\n",
    "for user in users:\n",
    "    age_sum += user.age\n",
    "\n",
    "average_age = age_sum / len(users)\n",
    "print(f\"\\n나이의 평균: {average_age:.1f}세\")"
   ]
  }
 ],
 "metadata": {
  "kernelspec": {
   "display_name": "Python 3",
   "language": "python",
   "name": "python3"
  },
  "language_info": {
   "codemirror_mode": {
    "name": "ipython",
    "version": 3
   },
   "file_extension": ".py",
   "mimetype": "text/x-python",
   "name": "python",
   "nbconvert_exporter": "python",
   "pygments_lexer": "ipython3",
   "version": "3.13.5"
  }
 },
 "nbformat": 4,
 "nbformat_minor": 5
}
